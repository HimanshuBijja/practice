{
 "cells": [
  {
   "cell_type": "code",
   "execution_count": null,
   "id": "450648a7",
   "metadata": {},
   "outputs": [],
   "source": []
  },
  {
   "cell_type": "markdown",
   "id": "708e6b37",
   "metadata": {},
   "source": [
    "## Overloading\n"
   ]
  },
  {
   "cell_type": "code",
   "execution_count": 5,
   "id": "cc2ad379",
   "metadata": {},
   "outputs": [
    {
     "name": "stdout",
     "output_type": "stream",
     "text": [
      "animal makes sound\n",
      "dog barks\n"
     ]
    }
   ],
   "source": [
    "class animal:\n",
    "    def sound(self):\n",
    "        print(\"animal makes sound\")\n",
    "\n",
    "class dog(animal):\n",
    "    def sound(self):\n",
    "        print(\"dog barks\")\n",
    "\n",
    "a = animal().sound()\n",
    "d = dog()\n",
    "\n",
    "# a.sound()\n",
    "d.sound()"
   ]
  },
  {
   "cell_type": "markdown",
   "id": "89ef540b",
   "metadata": {},
   "source": [
    "### multiplication operator overriding\n",
    "\n",
    "`__mul__` defines what the class does when it appears left handside of the * operator and \n",
    "`other` is the right handside of the * operator"
   ]
  },
  {
   "cell_type": "code",
   "execution_count": 10,
   "id": "012acfba",
   "metadata": {},
   "outputs": [
    {
     "name": "stdout",
     "output_type": "stream",
     "text": [
      "This Month Salary: 100\n"
     ]
    }
   ],
   "source": [
    "class Employee:\n",
    "    def __init__(self, name, salary):\n",
    "        self.name = name\n",
    "        self.salary = salary\n",
    "        self.random = 10\n",
    "    \n",
    "    def __mul__(self, other):\n",
    "        return self.random * other.random2\n",
    "\n",
    "class TimeSheet:\n",
    "    def __init__(self, name, days):\n",
    "        self.name = name\n",
    "        self.days = days\n",
    "        self.random2 = 10\n",
    "\n",
    "e = Employee('Ravi', 500)\n",
    "t = TimeSheet('Ravi', 25)\n",
    "print('This Month Salary:', e*t)\n",
    "\n"
   ]
  },
  {
   "cell_type": "markdown",
   "id": "d88c3c50",
   "metadata": {},
   "source": [
    "#### operator overloading addition, greater than lessthan \n"
   ]
  },
  {
   "cell_type": "code",
   "execution_count": 13,
   "id": "25910f90",
   "metadata": {},
   "outputs": [
    {
     "name": "stdout",
     "output_type": "stream",
     "text": [
      "Addition 800\n"
     ]
    }
   ],
   "source": [
    "class val:\n",
    "    def __init__(self,book):\n",
    "        self.book = book\n",
    "    def __add__(self, other):\n",
    "        return self.book + other.book\n",
    "\n",
    "a = val(500)\n",
    "b = val(300)\n",
    "\n",
    "print(\"Addition\", a+b)\n",
    "        "
   ]
  },
  {
   "cell_type": "code",
   "execution_count": 18,
   "id": "d9de8609",
   "metadata": {},
   "outputs": [
    {
     "name": "stdout",
     "output_type": "stream",
     "text": [
      "False\n",
      "True\n",
      "450\n",
      "50000\n"
     ]
    }
   ],
   "source": [
    "class val:\n",
    "    def __init__(self, book):\n",
    "        self.book = book\n",
    "    def __gt__(self, other):\n",
    "        return self.book > other.book\n",
    "    def __le__(self, other):\n",
    "        return self.book < other.book\n",
    "    def __add__(self, other):\n",
    "        return self.book + other.book\n",
    "    def __mul__(self, other):\n",
    "        return self.book * other.book\n",
    "\n",
    "\n",
    "a = val(200)\n",
    "b = val(250)\n",
    "\n",
    "print(a>b)\n",
    "print(a<b)\n",
    "print(a+b)\n",
    "print(a*b)"
   ]
  },
  {
   "cell_type": "markdown",
   "id": "a235b59f",
   "metadata": {},
   "source": [
    "#### method overloading\n",
    "\n",
    "Key Concepts:\n",
    "*a: A special syntax that packs all arguments into a tuple. So a = (10, 20, 30) in the first call.\n",
    "\n",
    "Loop: Iterates through all items in the tuple a, adds them to total.\n",
    "\n",
    "Flexible inputs: You can pass 1, 2, or more numbers, simulating method overloading."
   ]
  },
  {
   "cell_type": "code",
   "execution_count": 19,
   "id": "c9ce3460",
   "metadata": {},
   "outputs": [
    {
     "name": "stdout",
     "output_type": "stream",
     "text": [
      "60\n",
      "10\n",
      "50\n"
     ]
    }
   ],
   "source": [
    "class test:\n",
    "    def sum(self, *a):\n",
    "        total = 0\n",
    "        for x in a :\n",
    "            total = total+x\n",
    "        print(total)\n",
    "\n",
    "t = test()       \n",
    "t.sum(10,20,30)\n",
    "t.sum(10)\n",
    "t.sum(10, 40)"
   ]
  },
  {
   "cell_type": "markdown",
   "id": "efa0f378",
   "metadata": {},
   "source": [
    "### Constructor overloading\n",
    "\n",
    "in python constructor overloading is not possible , the last defined constructor is considered"
   ]
  },
  {
   "cell_type": "code",
   "execution_count": 21,
   "id": "20227c04",
   "metadata": {},
   "outputs": [
    {
     "name": "stdout",
     "output_type": "stream",
     "text": [
      "(1, 2, 3, 4, 5)\n",
      "(1, 2, 3, 40)\n",
      "(1, 2, 3, 4, 5)\n",
      "(1, 2)\n"
     ]
    }
   ],
   "source": [
    "class test:\n",
    "    def __init__(self, *a):\n",
    "        print(a)\n",
    "\n",
    "t = test(1,2,3,4,5)\n",
    "t = test(1,2,3,40)\n",
    "t = test(1,2,3,4,5)\n",
    "t = test(1,2)\n"
   ]
  },
  {
   "cell_type": "markdown",
   "id": "dadcda0a",
   "metadata": {},
   "source": [
    "## Over Riding\n"
   ]
  },
  {
   "cell_type": "markdown",
   "id": "97fb69cf",
   "metadata": {},
   "source": [
    "### method overriding\n",
    "\n",
    "defining same methods in super class and subclass is called method overriding,\n",
    "if the child class is not satisfied with the parent class implemention it can over ride the method and redefine it"
   ]
  },
  {
   "cell_type": "code",
   "execution_count": 26,
   "id": "207acf74",
   "metadata": {},
   "outputs": [
    {
     "name": "stdout",
     "output_type": "stream",
     "text": [
      "gold+land\n",
      "Ram\n",
      "krish\n"
     ]
    }
   ],
   "source": [
    "class p:\n",
    "    def property(self):\n",
    "        print('gold+land')\n",
    "    def marry(self):\n",
    "        print('Ram')\n",
    "\n",
    "class c(p):\n",
    "    def marry(self):\n",
    "        super().marry()\n",
    "        print(\"krish\")\n",
    "\n",
    "\n",
    "c1 = c()\n",
    "c1.property()\n",
    "c1.marry()\n",
    "\n"
   ]
  },
  {
   "cell_type": "markdown",
   "id": "909152b4",
   "metadata": {},
   "source": [
    "### constructor overriding\n"
   ]
  },
  {
   "cell_type": "code",
   "execution_count": 27,
   "id": "90695f16",
   "metadata": {},
   "outputs": [
    {
     "name": "stdout",
     "output_type": "stream",
     "text": [
      "Employee Name: Ram\n",
      "Employee Age: 25\n",
      "Employee Number: 1213\n",
      "Employee Salary: 36000\n",
      "\n",
      "\n",
      "Employee Name: Sam\n",
      "Employee Age: 28\n",
      "Employee Number: 872426\n",
      "Employee Salary: 39000\n",
      "\n",
      "\n"
     ]
    }
   ],
   "source": [
    "# Program to call Parent class constructor by using super()\n",
    "\n",
    "class Person:\n",
    "    def __init__(self, name, age):\n",
    "        self.name = name\n",
    "        self.age = age\n",
    "\n",
    "class Employee(Person):\n",
    "    def __init__(self, name, age, eno, esal):\n",
    "        super().__init__(name, age)\n",
    "        self.eno = eno\n",
    "        self.esal = esal\n",
    "\n",
    "    def display(self):\n",
    "        print('Employee Name:', self.name)\n",
    "        print('Employee Age:', self.age)\n",
    "        print('Employee Number:', self.eno)\n",
    "        print('Employee Salary:', self.esal)\n",
    "        print('\\n')\n",
    "\n",
    "e1 = Employee('Ram', 25, 1213, 36000)\n",
    "e1.display()\n",
    "\n",
    "e2 = Employee('Sam', 28, 872426, 39000)\n",
    "e2.display()\n"
   ]
  },
  {
   "cell_type": "code",
   "execution_count": 10,
   "id": "bd178a18",
   "metadata": {},
   "outputs": [
    {
     "name": "stdout",
     "output_type": "stream",
     "text": [
      "5.079574692317104\n"
     ]
    }
   ],
   "source": [
    "import random\n",
    "\n",
    "print(random.uniform(2.5, 10.0))"
   ]
  }
 ],
 "metadata": {
  "kernelspec": {
   "display_name": "Python 3",
   "language": "python",
   "name": "python3"
  },
  "language_info": {
   "codemirror_mode": {
    "name": "ipython",
    "version": 3
   },
   "file_extension": ".py",
   "mimetype": "text/x-python",
   "name": "python",
   "nbconvert_exporter": "python",
   "pygments_lexer": "ipython3",
   "version": "3.13.1"
  }
 },
 "nbformat": 4,
 "nbformat_minor": 5
}
